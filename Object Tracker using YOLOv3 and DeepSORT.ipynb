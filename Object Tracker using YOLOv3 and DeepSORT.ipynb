{
  "nbformat": 4,
  "nbformat_minor": 0,
  "metadata": {
    "colab": {
      "name": "Yolo_3_Object_tracking_Auba.ipynb",
      "provenance": []
    },
    "kernelspec": {
      "name": "python3",
      "display_name": "Python 3"
    },
    "accelerator": "GPU"
  },
  "cells": [
    {
      "cell_type": "code",
      "metadata": {
        "id": "pofK89jx3KoF",
        "colab_type": "code",
        "colab": {
          "base_uri": "https://localhost:8080/",
          "height": 108
        },
        "outputId": "b7ab9b77-dad8-402a-cd02-9f22b3ddf20e"
      },
      "source": [
        "!git clone \"https://github.com/theAIGuysCode/yolov3_deepsort.git\""
      ],
      "execution_count": 1,
      "outputs": [
        {
          "output_type": "stream",
          "text": [
            "Cloning into 'yolov3_deepsort'...\n",
            "remote: Enumerating objects: 143, done.\u001b[K\n",
            "remote: Total 143 (delta 0), reused 0 (delta 0), pack-reused 143\u001b[K\n",
            "Receiving objects: 100% (143/143), 42.59 MiB | 17.18 MiB/s, done.\n",
            "Resolving deltas: 100% (48/48), done.\n"
          ],
          "name": "stdout"
        }
      ]
    },
    {
      "cell_type": "code",
      "metadata": {
        "id": "wtztFfNk3zyP",
        "colab_type": "code",
        "colab": {
          "base_uri": "https://localhost:8080/",
          "height": 35
        },
        "outputId": "140d75a4-0b18-4cd7-9118-4201d2463a39"
      },
      "source": [
        "cd yolov3_deepsort/"
      ],
      "execution_count": 2,
      "outputs": [
        {
          "output_type": "stream",
          "text": [
            "/content/yolov3_deepsort\n"
          ],
          "name": "stdout"
        }
      ]
    },
    {
      "cell_type": "code",
      "metadata": {
        "id": "y_Dh7XU636E5",
        "colab_type": "code",
        "colab": {
          "base_uri": "https://localhost:8080/",
          "height": 90
        },
        "outputId": "31b5e273-cca0-4632-9340-d11e71311334"
      },
      "source": [
        "ls"
      ],
      "execution_count": 3,
      "outputs": [
        {
          "output_type": "stream",
          "text": [
            "conda-cpu.yml  LICENSE            README.md             \u001b[0m\u001b[01;34mweights\u001b[0m/\n",
            "conda-gpu.yml  load_weights.py    requirements-gpu.txt  \u001b[01;34myolov3_tf2\u001b[0m/\n",
            "\u001b[01;34mdata\u001b[0m/          \u001b[01;34mmodel_data\u001b[0m/        requirements.txt\n",
            "\u001b[01;34mdeep_sort\u001b[0m/     object_tracker.py  \u001b[01;34mtools\u001b[0m/\n"
          ],
          "name": "stdout"
        }
      ]
    },
    {
      "cell_type": "markdown",
      "metadata": {
        "id": "TzEeXGzyAux8",
        "colab_type": "text"
      },
      "source": [
        "Downloading Requirements:"
      ]
    },
    {
      "cell_type": "code",
      "metadata": {
        "id": "fHeCrd_74Arw",
        "colab_type": "code",
        "colab": {}
      },
      "source": [
        "!pip install -r requirements-gpu.txt"
      ],
      "execution_count": null,
      "outputs": []
    },
    {
      "cell_type": "code",
      "metadata": {
        "id": "3kLuenko4Aws",
        "colab_type": "code",
        "colab": {
          "base_uri": "https://localhost:8080/",
          "height": 217
        },
        "outputId": "d79c38e3-358c-409c-a7e6-6c045d62193e"
      },
      "source": [
        "!wget https://pjreddie.com/media/files/yolov3.weights -O weights/yolov3.weights"
      ],
      "execution_count": 5,
      "outputs": [
        {
          "output_type": "stream",
          "text": [
            "--2020-07-22 05:36:39--  https://pjreddie.com/media/files/yolov3.weights\n",
            "Resolving pjreddie.com (pjreddie.com)... 128.208.4.108\n",
            "Connecting to pjreddie.com (pjreddie.com)|128.208.4.108|:443... connected.\n",
            "HTTP request sent, awaiting response... 200 OK\n",
            "Length: 248007048 (237M) [application/octet-stream]\n",
            "Saving to: ‘weights/yolov3.weights’\n",
            "\n",
            "weights/yolov3.weig 100%[===================>] 236.52M   451KB/s    in 8m 29s  \n",
            "\n",
            "2020-07-22 05:45:09 (476 KB/s) - ‘weights/yolov3.weights’ saved [248007048/248007048]\n",
            "\n"
          ],
          "name": "stdout"
        }
      ]
    },
    {
      "cell_type": "code",
      "metadata": {
        "id": "F9dib-ns4Azm",
        "colab_type": "code",
        "colab": {
          "base_uri": "https://localhost:8080/",
          "height": 1000
        },
        "outputId": "de3d2ce7-bf7a-4faa-aa42-620e62bc7393"
      },
      "source": [
        "!python load_weights.py"
      ],
      "execution_count": 6,
      "outputs": [
        {
          "output_type": "stream",
          "text": [
            "2020-07-22 05:45:15.752546: W tensorflow/stream_executor/platform/default/dso_loader.cc:55] Could not load dynamic library 'libnvinfer.so.6'; dlerror: libnvinfer.so.6: cannot open shared object file: No such file or directory; LD_LIBRARY_PATH: /usr/lib64-nvidia\n",
            "2020-07-22 05:45:15.752761: W tensorflow/stream_executor/platform/default/dso_loader.cc:55] Could not load dynamic library 'libnvinfer_plugin.so.6'; dlerror: libnvinfer_plugin.so.6: cannot open shared object file: No such file or directory; LD_LIBRARY_PATH: /usr/lib64-nvidia\n",
            "2020-07-22 05:45:15.752789: W tensorflow/compiler/tf2tensorrt/utils/py_utils.cc:30] Cannot dlopen some TensorRT libraries. If you would like to use Nvidia GPU with TensorRT, please make sure the missing libraries mentioned above are installed properly.\n",
            "/usr/local/lib/python3.6/dist-packages/statsmodels/tools/_testing.py:19: FutureWarning: pandas.util.testing is deprecated. Use the functions in the public API at pandas.testing instead.\n",
            "  import pandas.util.testing as tm\n",
            "2020-07-22 05:45:17.555797: I tensorflow/stream_executor/platform/default/dso_loader.cc:44] Successfully opened dynamic library libcuda.so.1\n",
            "2020-07-22 05:45:17.629803: I tensorflow/stream_executor/cuda/cuda_gpu_executor.cc:981] successful NUMA node read from SysFS had negative value (-1), but there must be at least one NUMA node, so returning NUMA node zero\n",
            "2020-07-22 05:45:17.630843: I tensorflow/core/common_runtime/gpu/gpu_device.cc:1555] Found device 0 with properties: \n",
            "pciBusID: 0000:00:04.0 name: Tesla K80 computeCapability: 3.7\n",
            "coreClock: 0.8235GHz coreCount: 13 deviceMemorySize: 11.17GiB deviceMemoryBandwidth: 223.96GiB/s\n",
            "2020-07-22 05:45:17.631266: I tensorflow/stream_executor/platform/default/dso_loader.cc:44] Successfully opened dynamic library libcudart.so.10.1\n",
            "2020-07-22 05:45:17.924741: I tensorflow/stream_executor/platform/default/dso_loader.cc:44] Successfully opened dynamic library libcublas.so.10\n",
            "2020-07-22 05:45:18.114066: I tensorflow/stream_executor/platform/default/dso_loader.cc:44] Successfully opened dynamic library libcufft.so.10\n",
            "2020-07-22 05:45:18.144142: I tensorflow/stream_executor/platform/default/dso_loader.cc:44] Successfully opened dynamic library libcurand.so.10\n",
            "2020-07-22 05:45:18.434321: I tensorflow/stream_executor/platform/default/dso_loader.cc:44] Successfully opened dynamic library libcusolver.so.10\n",
            "2020-07-22 05:45:18.473577: I tensorflow/stream_executor/platform/default/dso_loader.cc:44] Successfully opened dynamic library libcusparse.so.10\n",
            "2020-07-22 05:45:19.075775: I tensorflow/stream_executor/platform/default/dso_loader.cc:44] Successfully opened dynamic library libcudnn.so.7\n",
            "2020-07-22 05:45:19.076021: I tensorflow/stream_executor/cuda/cuda_gpu_executor.cc:981] successful NUMA node read from SysFS had negative value (-1), but there must be at least one NUMA node, so returning NUMA node zero\n",
            "2020-07-22 05:45:19.077040: I tensorflow/stream_executor/cuda/cuda_gpu_executor.cc:981] successful NUMA node read from SysFS had negative value (-1), but there must be at least one NUMA node, so returning NUMA node zero\n",
            "2020-07-22 05:45:19.077791: I tensorflow/core/common_runtime/gpu/gpu_device.cc:1697] Adding visible gpu devices: 0\n",
            "2020-07-22 05:45:19.093342: I tensorflow/core/platform/cpu_feature_guard.cc:142] Your CPU supports instructions that this TensorFlow binary was not compiled to use: AVX2 FMA\n",
            "2020-07-22 05:45:19.098806: I tensorflow/core/platform/profile_utils/cpu_utils.cc:94] CPU Frequency: 2300000000 Hz\n",
            "2020-07-22 05:45:19.099038: I tensorflow/compiler/xla/service/service.cc:168] XLA service 0x2a02a00 initialized for platform Host (this does not guarantee that XLA will be used). Devices:\n",
            "2020-07-22 05:45:19.099076: I tensorflow/compiler/xla/service/service.cc:176]   StreamExecutor device (0): Host, Default Version\n",
            "2020-07-22 05:45:19.188133: I tensorflow/stream_executor/cuda/cuda_gpu_executor.cc:981] successful NUMA node read from SysFS had negative value (-1), but there must be at least one NUMA node, so returning NUMA node zero\n",
            "2020-07-22 05:45:19.189108: I tensorflow/compiler/xla/service/service.cc:168] XLA service 0x2a02840 initialized for platform CUDA (this does not guarantee that XLA will be used). Devices:\n",
            "2020-07-22 05:45:19.189142: I tensorflow/compiler/xla/service/service.cc:176]   StreamExecutor device (0): Tesla K80, Compute Capability 3.7\n",
            "2020-07-22 05:45:19.190508: I tensorflow/stream_executor/cuda/cuda_gpu_executor.cc:981] successful NUMA node read from SysFS had negative value (-1), but there must be at least one NUMA node, so returning NUMA node zero\n",
            "2020-07-22 05:45:19.191254: I tensorflow/core/common_runtime/gpu/gpu_device.cc:1555] Found device 0 with properties: \n",
            "pciBusID: 0000:00:04.0 name: Tesla K80 computeCapability: 3.7\n",
            "coreClock: 0.8235GHz coreCount: 13 deviceMemorySize: 11.17GiB deviceMemoryBandwidth: 223.96GiB/s\n",
            "2020-07-22 05:45:19.191361: I tensorflow/stream_executor/platform/default/dso_loader.cc:44] Successfully opened dynamic library libcudart.so.10.1\n",
            "2020-07-22 05:45:19.191414: I tensorflow/stream_executor/platform/default/dso_loader.cc:44] Successfully opened dynamic library libcublas.so.10\n",
            "2020-07-22 05:45:19.191463: I tensorflow/stream_executor/platform/default/dso_loader.cc:44] Successfully opened dynamic library libcufft.so.10\n",
            "2020-07-22 05:45:19.191508: I tensorflow/stream_executor/platform/default/dso_loader.cc:44] Successfully opened dynamic library libcurand.so.10\n",
            "2020-07-22 05:45:19.191546: I tensorflow/stream_executor/platform/default/dso_loader.cc:44] Successfully opened dynamic library libcusolver.so.10\n",
            "2020-07-22 05:45:19.191610: I tensorflow/stream_executor/platform/default/dso_loader.cc:44] Successfully opened dynamic library libcusparse.so.10\n",
            "2020-07-22 05:45:19.191676: I tensorflow/stream_executor/platform/default/dso_loader.cc:44] Successfully opened dynamic library libcudnn.so.7\n",
            "2020-07-22 05:45:19.191878: I tensorflow/stream_executor/cuda/cuda_gpu_executor.cc:981] successful NUMA node read from SysFS had negative value (-1), but there must be at least one NUMA node, so returning NUMA node zero\n",
            "2020-07-22 05:45:19.192752: I tensorflow/stream_executor/cuda/cuda_gpu_executor.cc:981] successful NUMA node read from SysFS had negative value (-1), but there must be at least one NUMA node, so returning NUMA node zero\n",
            "2020-07-22 05:45:19.193429: I tensorflow/core/common_runtime/gpu/gpu_device.cc:1697] Adding visible gpu devices: 0\n",
            "2020-07-22 05:45:19.193508: I tensorflow/stream_executor/platform/default/dso_loader.cc:44] Successfully opened dynamic library libcudart.so.10.1\n",
            "2020-07-22 05:45:19.195456: I tensorflow/core/common_runtime/gpu/gpu_device.cc:1096] Device interconnect StreamExecutor with strength 1 edge matrix:\n",
            "2020-07-22 05:45:19.195490: I tensorflow/core/common_runtime/gpu/gpu_device.cc:1102]      0 \n",
            "2020-07-22 05:45:19.195506: I tensorflow/core/common_runtime/gpu/gpu_device.cc:1115] 0:   N \n",
            "2020-07-22 05:45:19.195689: I tensorflow/stream_executor/cuda/cuda_gpu_executor.cc:981] successful NUMA node read from SysFS had negative value (-1), but there must be at least one NUMA node, so returning NUMA node zero\n",
            "2020-07-22 05:45:19.196546: I tensorflow/stream_executor/cuda/cuda_gpu_executor.cc:981] successful NUMA node read from SysFS had negative value (-1), but there must be at least one NUMA node, so returning NUMA node zero\n",
            "2020-07-22 05:45:19.197337: I tensorflow/core/common_runtime/gpu/gpu_device.cc:1241] Created TensorFlow device (/job:localhost/replica:0/task:0/device:GPU:0 with 10805 MB memory) -> physical GPU (device: 0, name: Tesla K80, pci bus id: 0000:00:04.0, compute capability: 3.7)\n",
            "Model: \"yolov3\"\n",
            "__________________________________________________________________________________________________\n",
            "Layer (type)                    Output Shape         Param #     Connected to                     \n",
            "==================================================================================================\n",
            "input (InputLayer)              [(None, None, None,  0                                            \n",
            "__________________________________________________________________________________________________\n",
            "yolo_darknet (Model)            ((None, None, None,  40620640    input[0][0]                      \n",
            "__________________________________________________________________________________________________\n",
            "yolo_conv_0 (Model)             (None, None, None, 5 11024384    yolo_darknet[1][2]               \n",
            "__________________________________________________________________________________________________\n",
            "yolo_conv_1 (Model)             (None, None, None, 2 2957312     yolo_conv_0[1][0]                \n",
            "                                                                 yolo_darknet[1][1]               \n",
            "__________________________________________________________________________________________________\n",
            "yolo_conv_2 (Model)             (None, None, None, 1 741376      yolo_conv_1[1][0]                \n",
            "                                                                 yolo_darknet[1][0]               \n",
            "__________________________________________________________________________________________________\n",
            "yolo_output_0 (Model)           (None, None, None, 3 4984063     yolo_conv_0[1][0]                \n",
            "__________________________________________________________________________________________________\n",
            "yolo_output_1 (Model)           (None, None, None, 3 1312511     yolo_conv_1[1][0]                \n",
            "__________________________________________________________________________________________________\n",
            "yolo_output_2 (Model)           (None, None, None, 3 361471      yolo_conv_2[1][0]                \n",
            "__________________________________________________________________________________________________\n",
            "yolo_boxes_0 (Lambda)           ((None, None, None,  0           yolo_output_0[1][0]              \n",
            "__________________________________________________________________________________________________\n",
            "yolo_boxes_1 (Lambda)           ((None, None, None,  0           yolo_output_1[1][0]              \n",
            "__________________________________________________________________________________________________\n",
            "yolo_boxes_2 (Lambda)           ((None, None, None,  0           yolo_output_2[1][0]              \n",
            "__________________________________________________________________________________________________\n",
            "yolo_nms (Lambda)               ((None, 100, 4), (No 0           yolo_boxes_0[0][0]               \n",
            "                                                                 yolo_boxes_0[0][1]               \n",
            "                                                                 yolo_boxes_0[0][2]               \n",
            "                                                                 yolo_boxes_1[0][0]               \n",
            "                                                                 yolo_boxes_1[0][1]               \n",
            "                                                                 yolo_boxes_1[0][2]               \n",
            "                                                                 yolo_boxes_2[0][0]               \n",
            "                                                                 yolo_boxes_2[0][1]               \n",
            "                                                                 yolo_boxes_2[0][2]               \n",
            "==================================================================================================\n",
            "Total params: 62,001,757\n",
            "Trainable params: 61,949,149\n",
            "Non-trainable params: 52,608\n",
            "__________________________________________________________________________________________________\n",
            "I0722 05:45:26.006613 140026996402048 load_weights.py:19] model created\n",
            "I0722 05:45:26.008998 140026996402048 utils.py:47] yolo_darknet/conv2d bn\n",
            "I0722 05:45:26.012864 140026996402048 utils.py:47] yolo_darknet/conv2d_1 bn\n",
            "I0722 05:45:26.016495 140026996402048 utils.py:47] yolo_darknet/conv2d_2 bn\n",
            "I0722 05:45:26.019829 140026996402048 utils.py:47] yolo_darknet/conv2d_3 bn\n",
            "I0722 05:45:26.023326 140026996402048 utils.py:47] yolo_darknet/conv2d_4 bn\n",
            "I0722 05:45:26.027974 140026996402048 utils.py:47] yolo_darknet/conv2d_5 bn\n",
            "I0722 05:45:26.031480 140026996402048 utils.py:47] yolo_darknet/conv2d_6 bn\n",
            "I0722 05:45:26.035130 140026996402048 utils.py:47] yolo_darknet/conv2d_7 bn\n",
            "I0722 05:45:26.039644 140026996402048 utils.py:47] yolo_darknet/conv2d_8 bn\n",
            "I0722 05:45:26.043385 140026996402048 utils.py:47] yolo_darknet/conv2d_9 bn\n",
            "I0722 05:45:26.049129 140026996402048 utils.py:47] yolo_darknet/conv2d_10 bn\n",
            "I0722 05:45:26.052749 140026996402048 utils.py:47] yolo_darknet/conv2d_11 bn\n",
            "I0722 05:45:26.057884 140026996402048 utils.py:47] yolo_darknet/conv2d_12 bn\n",
            "I0722 05:45:26.061830 140026996402048 utils.py:47] yolo_darknet/conv2d_13 bn\n",
            "I0722 05:45:26.066841 140026996402048 utils.py:47] yolo_darknet/conv2d_14 bn\n",
            "I0722 05:45:26.070745 140026996402048 utils.py:47] yolo_darknet/conv2d_15 bn\n",
            "I0722 05:45:26.075645 140026996402048 utils.py:47] yolo_darknet/conv2d_16 bn\n",
            "I0722 05:45:26.079297 140026996402048 utils.py:47] yolo_darknet/conv2d_17 bn\n",
            "I0722 05:45:26.084789 140026996402048 utils.py:47] yolo_darknet/conv2d_18 bn\n",
            "I0722 05:45:26.088699 140026996402048 utils.py:47] yolo_darknet/conv2d_19 bn\n",
            "I0722 05:45:26.093699 140026996402048 utils.py:47] yolo_darknet/conv2d_20 bn\n",
            "I0722 05:45:26.097600 140026996402048 utils.py:47] yolo_darknet/conv2d_21 bn\n",
            "I0722 05:45:26.102602 140026996402048 utils.py:47] yolo_darknet/conv2d_22 bn\n",
            "I0722 05:45:26.106490 140026996402048 utils.py:47] yolo_darknet/conv2d_23 bn\n",
            "I0722 05:45:26.111709 140026996402048 utils.py:47] yolo_darknet/conv2d_24 bn\n",
            "I0722 05:45:26.115467 140026996402048 utils.py:47] yolo_darknet/conv2d_25 bn\n",
            "I0722 05:45:26.120437 140026996402048 utils.py:47] yolo_darknet/conv2d_26 bn\n",
            "I0722 05:45:26.132400 140026996402048 utils.py:47] yolo_darknet/conv2d_27 bn\n",
            "I0722 05:45:26.136980 140026996402048 utils.py:47] yolo_darknet/conv2d_28 bn\n",
            "I0722 05:45:26.146958 140026996402048 utils.py:47] yolo_darknet/conv2d_29 bn\n",
            "I0722 05:45:26.151337 140026996402048 utils.py:47] yolo_darknet/conv2d_30 bn\n",
            "I0722 05:45:26.160567 140026996402048 utils.py:47] yolo_darknet/conv2d_31 bn\n",
            "I0722 05:45:26.164976 140026996402048 utils.py:47] yolo_darknet/conv2d_32 bn\n",
            "I0722 05:45:26.174139 140026996402048 utils.py:47] yolo_darknet/conv2d_33 bn\n",
            "I0722 05:45:26.178704 140026996402048 utils.py:47] yolo_darknet/conv2d_34 bn\n",
            "I0722 05:45:26.187999 140026996402048 utils.py:47] yolo_darknet/conv2d_35 bn\n",
            "I0722 05:45:26.192381 140026996402048 utils.py:47] yolo_darknet/conv2d_36 bn\n",
            "I0722 05:45:26.201270 140026996402048 utils.py:47] yolo_darknet/conv2d_37 bn\n",
            "I0722 05:45:26.205876 140026996402048 utils.py:47] yolo_darknet/conv2d_38 bn\n",
            "I0722 05:45:26.215145 140026996402048 utils.py:47] yolo_darknet/conv2d_39 bn\n",
            "I0722 05:45:26.219558 140026996402048 utils.py:47] yolo_darknet/conv2d_40 bn\n",
            "I0722 05:45:26.229085 140026996402048 utils.py:47] yolo_darknet/conv2d_41 bn\n",
            "I0722 05:45:26.233416 140026996402048 utils.py:47] yolo_darknet/conv2d_42 bn\n",
            "I0722 05:45:26.254822 140026996402048 utils.py:47] yolo_darknet/conv2d_43 bn\n",
            "I0722 05:45:26.288005 140026996402048 utils.py:47] yolo_darknet/conv2d_44 bn\n",
            "I0722 05:45:26.295053 140026996402048 utils.py:47] yolo_darknet/conv2d_45 bn\n",
            "I0722 05:45:26.322181 140026996402048 utils.py:47] yolo_darknet/conv2d_46 bn\n",
            "I0722 05:45:26.328875 140026996402048 utils.py:47] yolo_darknet/conv2d_47 bn\n",
            "I0722 05:45:26.356296 140026996402048 utils.py:47] yolo_darknet/conv2d_48 bn\n",
            "I0722 05:45:26.362852 140026996402048 utils.py:47] yolo_darknet/conv2d_49 bn\n",
            "I0722 05:45:26.390888 140026996402048 utils.py:47] yolo_darknet/conv2d_50 bn\n",
            "I0722 05:45:26.397662 140026996402048 utils.py:47] yolo_darknet/conv2d_51 bn\n",
            "I0722 05:45:26.424476 140026996402048 utils.py:47] yolo_conv_0/conv2d_52 bn\n",
            "I0722 05:45:26.430235 140026996402048 utils.py:47] yolo_conv_0/conv2d_53 bn\n",
            "I0722 05:45:26.459528 140026996402048 utils.py:47] yolo_conv_0/conv2d_54 bn\n",
            "I0722 05:45:26.465088 140026996402048 utils.py:47] yolo_conv_0/conv2d_55 bn\n",
            "I0722 05:45:26.491404 140026996402048 utils.py:47] yolo_conv_0/conv2d_56 bn\n",
            "I0722 05:45:26.496927 140026996402048 utils.py:47] yolo_output_0/conv2d_57 bn\n",
            "I0722 05:45:26.522435 140026996402048 utils.py:47] yolo_output_0/conv2d_58 bias\n",
            "I0722 05:45:26.525561 140026996402048 utils.py:47] yolo_conv_1/conv2d_59 bn\n",
            "I0722 05:45:26.528962 140026996402048 utils.py:47] yolo_conv_1/conv2d_60 bn\n",
            "I0722 05:45:26.532269 140026996402048 utils.py:47] yolo_conv_1/conv2d_61 bn\n",
            "I0722 05:45:26.540354 140026996402048 utils.py:47] yolo_conv_1/conv2d_62 bn\n",
            "I0722 05:45:26.544196 140026996402048 utils.py:47] yolo_conv_1/conv2d_63 bn\n",
            "I0722 05:45:26.552220 140026996402048 utils.py:47] yolo_conv_1/conv2d_64 bn\n",
            "I0722 05:45:26.555320 140026996402048 utils.py:47] yolo_output_1/conv2d_65 bn\n",
            "I0722 05:45:26.563236 140026996402048 utils.py:47] yolo_output_1/conv2d_66 bias\n",
            "I0722 05:45:26.565814 140026996402048 utils.py:47] yolo_conv_2/conv2d_67 bn\n",
            "I0722 05:45:26.568264 140026996402048 utils.py:47] yolo_conv_2/conv2d_68 bn\n",
            "I0722 05:45:26.570966 140026996402048 utils.py:47] yolo_conv_2/conv2d_69 bn\n",
            "I0722 05:45:26.574687 140026996402048 utils.py:47] yolo_conv_2/conv2d_70 bn\n",
            "I0722 05:45:26.577435 140026996402048 utils.py:47] yolo_conv_2/conv2d_71 bn\n",
            "I0722 05:45:26.581247 140026996402048 utils.py:47] yolo_conv_2/conv2d_72 bn\n",
            "I0722 05:45:26.583609 140026996402048 utils.py:47] yolo_output_2/conv2d_73 bn\n",
            "I0722 05:45:26.587912 140026996402048 utils.py:47] yolo_output_2/conv2d_74 bias\n",
            "I0722 05:45:26.589452 140026996402048 load_weights.py:22] weights loaded\n",
            "2020-07-22 05:45:26.600700: I tensorflow/stream_executor/platform/default/dso_loader.cc:44] Successfully opened dynamic library libcudnn.so.7\n",
            "2020-07-22 05:45:30.563335: I tensorflow/stream_executor/platform/default/dso_loader.cc:44] Successfully opened dynamic library libcublas.so.10\n",
            "I0722 05:45:32.717713 140026996402048 load_weights.py:26] sanity check passed\n",
            "I0722 05:45:33.468457 140026996402048 load_weights.py:29] weights saved\n"
          ],
          "name": "stdout"
        }
      ]
    },
    {
      "cell_type": "code",
      "metadata": {
        "id": "Nv3LT6ND4A5W",
        "colab_type": "code",
        "colab": {
          "base_uri": "https://localhost:8080/",
          "height": 1000
        },
        "outputId": "7d98f5e4-f3c5-408b-9882-9c7d273e4965"
      },
      "source": [
        "!python object_tracker.py --video ./data/video/Auba.mp4 --output ./data/video/results.avi"
      ],
      "execution_count": 10,
      "outputs": [
        {
          "output_type": "stream",
          "text": [
            "2020-07-22 05:51:40.066320: W tensorflow/stream_executor/platform/default/dso_loader.cc:55] Could not load dynamic library 'libnvinfer.so.6'; dlerror: libnvinfer.so.6: cannot open shared object file: No such file or directory; LD_LIBRARY_PATH: /usr/lib64-nvidia\n",
            "2020-07-22 05:51:40.066453: W tensorflow/stream_executor/platform/default/dso_loader.cc:55] Could not load dynamic library 'libnvinfer_plugin.so.6'; dlerror: libnvinfer_plugin.so.6: cannot open shared object file: No such file or directory; LD_LIBRARY_PATH: /usr/lib64-nvidia\n",
            "2020-07-22 05:51:40.066480: W tensorflow/compiler/tf2tensorrt/utils/py_utils.cc:30] Cannot dlopen some TensorRT libraries. If you would like to use Nvidia GPU with TensorRT, please make sure the missing libraries mentioned above are installed properly.\n",
            "/usr/local/lib/python3.6/dist-packages/statsmodels/tools/_testing.py:19: FutureWarning: pandas.util.testing is deprecated. Use the functions in the public API at pandas.testing instead.\n",
            "  import pandas.util.testing as tm\n",
            "2020-07-22 05:51:41.445421: I tensorflow/stream_executor/platform/default/dso_loader.cc:44] Successfully opened dynamic library libcuda.so.1\n",
            "2020-07-22 05:51:41.463238: I tensorflow/stream_executor/cuda/cuda_gpu_executor.cc:981] successful NUMA node read from SysFS had negative value (-1), but there must be at least one NUMA node, so returning NUMA node zero\n",
            "2020-07-22 05:51:41.464058: I tensorflow/core/common_runtime/gpu/gpu_device.cc:1555] Found device 0 with properties: \n",
            "pciBusID: 0000:00:04.0 name: Tesla K80 computeCapability: 3.7\n",
            "coreClock: 0.8235GHz coreCount: 13 deviceMemorySize: 11.17GiB deviceMemoryBandwidth: 223.96GiB/s\n",
            "2020-07-22 05:51:41.464334: I tensorflow/stream_executor/platform/default/dso_loader.cc:44] Successfully opened dynamic library libcudart.so.10.1\n",
            "2020-07-22 05:51:41.466386: I tensorflow/stream_executor/platform/default/dso_loader.cc:44] Successfully opened dynamic library libcublas.so.10\n",
            "2020-07-22 05:51:41.468114: I tensorflow/stream_executor/platform/default/dso_loader.cc:44] Successfully opened dynamic library libcufft.so.10\n",
            "2020-07-22 05:51:41.468460: I tensorflow/stream_executor/platform/default/dso_loader.cc:44] Successfully opened dynamic library libcurand.so.10\n",
            "2020-07-22 05:51:41.470555: I tensorflow/stream_executor/platform/default/dso_loader.cc:44] Successfully opened dynamic library libcusolver.so.10\n",
            "2020-07-22 05:51:41.471893: I tensorflow/stream_executor/platform/default/dso_loader.cc:44] Successfully opened dynamic library libcusparse.so.10\n",
            "2020-07-22 05:51:41.475768: I tensorflow/stream_executor/platform/default/dso_loader.cc:44] Successfully opened dynamic library libcudnn.so.7\n",
            "2020-07-22 05:51:41.475923: I tensorflow/stream_executor/cuda/cuda_gpu_executor.cc:981] successful NUMA node read from SysFS had negative value (-1), but there must be at least one NUMA node, so returning NUMA node zero\n",
            "2020-07-22 05:51:41.476731: I tensorflow/stream_executor/cuda/cuda_gpu_executor.cc:981] successful NUMA node read from SysFS had negative value (-1), but there must be at least one NUMA node, so returning NUMA node zero\n",
            "2020-07-22 05:51:41.477409: I tensorflow/core/common_runtime/gpu/gpu_device.cc:1697] Adding visible gpu devices: 0\n",
            "2020-07-22 05:51:41.479020: I tensorflow/core/platform/cpu_feature_guard.cc:142] Your CPU supports instructions that this TensorFlow binary was not compiled to use: AVX2 FMA\n",
            "2020-07-22 05:51:41.484395: I tensorflow/core/platform/profile_utils/cpu_utils.cc:94] CPU Frequency: 2300000000 Hz\n",
            "2020-07-22 05:51:41.484616: I tensorflow/compiler/xla/service/service.cc:168] XLA service 0x25aad80 initialized for platform Host (this does not guarantee that XLA will be used). Devices:\n",
            "2020-07-22 05:51:41.484702: I tensorflow/compiler/xla/service/service.cc:176]   StreamExecutor device (0): Host, Default Version\n",
            "2020-07-22 05:51:41.547263: I tensorflow/stream_executor/cuda/cuda_gpu_executor.cc:981] successful NUMA node read from SysFS had negative value (-1), but there must be at least one NUMA node, so returning NUMA node zero\n",
            "2020-07-22 05:51:41.548286: I tensorflow/compiler/xla/service/service.cc:168] XLA service 0x7852a80 initialized for platform CUDA (this does not guarantee that XLA will be used). Devices:\n",
            "2020-07-22 05:51:41.548326: I tensorflow/compiler/xla/service/service.cc:176]   StreamExecutor device (0): Tesla K80, Compute Capability 3.7\n",
            "2020-07-22 05:51:41.548587: I tensorflow/stream_executor/cuda/cuda_gpu_executor.cc:981] successful NUMA node read from SysFS had negative value (-1), but there must be at least one NUMA node, so returning NUMA node zero\n",
            "2020-07-22 05:51:41.549419: I tensorflow/core/common_runtime/gpu/gpu_device.cc:1555] Found device 0 with properties: \n",
            "pciBusID: 0000:00:04.0 name: Tesla K80 computeCapability: 3.7\n",
            "coreClock: 0.8235GHz coreCount: 13 deviceMemorySize: 11.17GiB deviceMemoryBandwidth: 223.96GiB/s\n",
            "2020-07-22 05:51:41.549519: I tensorflow/stream_executor/platform/default/dso_loader.cc:44] Successfully opened dynamic library libcudart.so.10.1\n",
            "2020-07-22 05:51:41.549571: I tensorflow/stream_executor/platform/default/dso_loader.cc:44] Successfully opened dynamic library libcublas.so.10\n",
            "2020-07-22 05:51:41.549612: I tensorflow/stream_executor/platform/default/dso_loader.cc:44] Successfully opened dynamic library libcufft.so.10\n",
            "2020-07-22 05:51:41.549693: I tensorflow/stream_executor/platform/default/dso_loader.cc:44] Successfully opened dynamic library libcurand.so.10\n",
            "2020-07-22 05:51:41.549761: I tensorflow/stream_executor/platform/default/dso_loader.cc:44] Successfully opened dynamic library libcusolver.so.10\n",
            "2020-07-22 05:51:41.549802: I tensorflow/stream_executor/platform/default/dso_loader.cc:44] Successfully opened dynamic library libcusparse.so.10\n",
            "2020-07-22 05:51:41.549845: I tensorflow/stream_executor/platform/default/dso_loader.cc:44] Successfully opened dynamic library libcudnn.so.7\n",
            "2020-07-22 05:51:41.550014: I tensorflow/stream_executor/cuda/cuda_gpu_executor.cc:981] successful NUMA node read from SysFS had negative value (-1), but there must be at least one NUMA node, so returning NUMA node zero\n",
            "2020-07-22 05:51:41.551048: I tensorflow/stream_executor/cuda/cuda_gpu_executor.cc:981] successful NUMA node read from SysFS had negative value (-1), but there must be at least one NUMA node, so returning NUMA node zero\n",
            "2020-07-22 05:51:41.551832: I tensorflow/core/common_runtime/gpu/gpu_device.cc:1697] Adding visible gpu devices: 0\n",
            "2020-07-22 05:51:41.551910: I tensorflow/stream_executor/platform/default/dso_loader.cc:44] Successfully opened dynamic library libcudart.so.10.1\n",
            "2020-07-22 05:51:41.553583: I tensorflow/core/common_runtime/gpu/gpu_device.cc:1096] Device interconnect StreamExecutor with strength 1 edge matrix:\n",
            "2020-07-22 05:51:41.553616: I tensorflow/core/common_runtime/gpu/gpu_device.cc:1102]      0 \n",
            "2020-07-22 05:51:41.553659: I tensorflow/core/common_runtime/gpu/gpu_device.cc:1115] 0:   N \n",
            "2020-07-22 05:51:41.553850: I tensorflow/stream_executor/cuda/cuda_gpu_executor.cc:981] successful NUMA node read from SysFS had negative value (-1), but there must be at least one NUMA node, so returning NUMA node zero\n",
            "2020-07-22 05:51:41.554607: I tensorflow/stream_executor/cuda/cuda_gpu_executor.cc:981] successful NUMA node read from SysFS had negative value (-1), but there must be at least one NUMA node, so returning NUMA node zero\n",
            "2020-07-22 05:51:41.555406: I tensorflow/core/common_runtime/gpu/gpu_device.cc:1241] Created TensorFlow device (/job:localhost/replica:0/task:0/device:GPU:0 with 10805 MB memory) -> physical GPU (device: 0, name: Tesla K80, pci bus id: 0000:00:04.0, compute capability: 3.7)\n",
            "2020-07-22 05:51:41.651834: I tensorflow/stream_executor/cuda/cuda_gpu_executor.cc:981] successful NUMA node read from SysFS had negative value (-1), but there must be at least one NUMA node, so returning NUMA node zero\n",
            "2020-07-22 05:51:41.652652: I tensorflow/core/common_runtime/gpu/gpu_device.cc:1555] Found device 0 with properties: \n",
            "pciBusID: 0000:00:04.0 name: Tesla K80 computeCapability: 3.7\n",
            "coreClock: 0.8235GHz coreCount: 13 deviceMemorySize: 11.17GiB deviceMemoryBandwidth: 223.96GiB/s\n",
            "2020-07-22 05:51:41.652744: I tensorflow/stream_executor/platform/default/dso_loader.cc:44] Successfully opened dynamic library libcudart.so.10.1\n",
            "2020-07-22 05:51:41.652806: I tensorflow/stream_executor/platform/default/dso_loader.cc:44] Successfully opened dynamic library libcublas.so.10\n",
            "2020-07-22 05:51:41.652862: I tensorflow/stream_executor/platform/default/dso_loader.cc:44] Successfully opened dynamic library libcufft.so.10\n",
            "2020-07-22 05:51:41.652926: I tensorflow/stream_executor/platform/default/dso_loader.cc:44] Successfully opened dynamic library libcurand.so.10\n",
            "2020-07-22 05:51:41.652991: I tensorflow/stream_executor/platform/default/dso_loader.cc:44] Successfully opened dynamic library libcusolver.so.10\n",
            "2020-07-22 05:51:41.653052: I tensorflow/stream_executor/platform/default/dso_loader.cc:44] Successfully opened dynamic library libcusparse.so.10\n",
            "2020-07-22 05:51:41.653106: I tensorflow/stream_executor/platform/default/dso_loader.cc:44] Successfully opened dynamic library libcudnn.so.7\n",
            "2020-07-22 05:51:41.653263: I tensorflow/stream_executor/cuda/cuda_gpu_executor.cc:981] successful NUMA node read from SysFS had negative value (-1), but there must be at least one NUMA node, so returning NUMA node zero\n",
            "2020-07-22 05:51:41.654080: I tensorflow/stream_executor/cuda/cuda_gpu_executor.cc:981] successful NUMA node read from SysFS had negative value (-1), but there must be at least one NUMA node, so returning NUMA node zero\n",
            "2020-07-22 05:51:41.654779: I tensorflow/core/common_runtime/gpu/gpu_device.cc:1697] Adding visible gpu devices: 0\n",
            "2020-07-22 05:51:41.654835: I tensorflow/core/common_runtime/gpu/gpu_device.cc:1096] Device interconnect StreamExecutor with strength 1 edge matrix:\n",
            "2020-07-22 05:51:41.654866: I tensorflow/core/common_runtime/gpu/gpu_device.cc:1102]      0 \n",
            "2020-07-22 05:51:41.654889: I tensorflow/core/common_runtime/gpu/gpu_device.cc:1115] 0:   N \n",
            "2020-07-22 05:51:41.655079: I tensorflow/stream_executor/cuda/cuda_gpu_executor.cc:981] successful NUMA node read from SysFS had negative value (-1), but there must be at least one NUMA node, so returning NUMA node zero\n",
            "2020-07-22 05:51:41.655860: I tensorflow/stream_executor/cuda/cuda_gpu_executor.cc:981] successful NUMA node read from SysFS had negative value (-1), but there must be at least one NUMA node, so returning NUMA node zero\n",
            "2020-07-22 05:51:41.656598: I tensorflow/core/common_runtime/gpu/gpu_device.cc:1241] Created TensorFlow device (/job:localhost/replica:0/task:0/device:GPU:0 with 10805 MB memory) -> physical GPU (device: 0, name: Tesla K80, pci bus id: 0000:00:04.0, compute capability: 3.7)\n",
            "I0722 05:51:48.877321 140293907650432 object_tracker.py:55] weights loaded\n",
            "I0722 05:51:48.877792 140293907650432 object_tracker.py:58] classes loaded\n",
            "2020-07-22 05:51:50.725313: I tensorflow/stream_executor/platform/default/dso_loader.cc:44] Successfully opened dynamic library libcudnn.so.7\n",
            "2020-07-22 05:51:51.499944: I tensorflow/stream_executor/platform/default/dso_loader.cc:44] Successfully opened dynamic library libcublas.so.10\n",
            "W0722 05:52:29.434153 140293907650432 object_tracker.py:83] Empty Frame\n",
            "W0722 05:52:29.535150 140293907650432 object_tracker.py:83] Empty Frame\n",
            "W0722 05:52:29.636196 140293907650432 object_tracker.py:83] Empty Frame\n",
            "Traceback (most recent call last):\n",
            "  File \"object_tracker.py\", line 163, in <module>\n",
            "    app.run(main)\n",
            "  File \"/usr/local/lib/python3.6/dist-packages/absl/app.py\", line 299, in run\n",
            "    _run_main(main, args)\n",
            "  File \"/usr/local/lib/python3.6/dist-packages/absl/app.py\", line 250, in _run_main\n",
            "    sys.exit(main(argv))\n",
            "  File \"object_tracker.py\", line 155, in main\n",
            "    if FLAGS.ouput:\n",
            "  File \"/usr/local/lib/python3.6/dist-packages/absl/flags/_flagvalues.py\", line 473, in __getattr__\n",
            "    raise AttributeError(name)\n",
            "AttributeError: ouput\n"
          ],
          "name": "stdout"
        }
      ]
    },
    {
      "cell_type": "markdown",
      "metadata": {
        "id": "mNbfCHUtDSNk",
        "colab_type": "text"
      },
      "source": [
        "Reference :\n",
        "\n",
        "The AI Guy"
      ]
    },
    {
      "cell_type": "code",
      "metadata": {
        "id": "tAmPkbtD4A8u",
        "colab_type": "code",
        "colab": {}
      },
      "source": [
        ""
      ],
      "execution_count": null,
      "outputs": []
    },
    {
      "cell_type": "code",
      "metadata": {
        "id": "fqp2mTJm4A32",
        "colab_type": "code",
        "colab": {}
      },
      "source": [
        ""
      ],
      "execution_count": null,
      "outputs": []
    }
  ]
}